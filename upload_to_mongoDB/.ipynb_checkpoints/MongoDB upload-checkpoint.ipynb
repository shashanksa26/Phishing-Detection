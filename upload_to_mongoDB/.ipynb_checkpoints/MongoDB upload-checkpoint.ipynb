{
 "cells": [
  {
   "cell_type": "code",
   "execution_count": 12,
   "id": "fc255c32",
   "metadata": {},
   "outputs": [],
   "source": [
    "import os \n",
    "from database_connect.databases.mongodb import MongoIO as mongo"
   ]
  },
  {
   "cell_type": "code",
   "execution_count": 13,
   "id": "6f6a3474",
   "metadata": {},
   "outputs": [
    {
     "ename": "NameError",
     "evalue": "name 'MONGO_DB_URL' is not defined",
     "output_type": "error",
     "traceback": [
      "\u001b[1;31m---------------------------------------------------------------------------\u001b[0m",
      "\u001b[1;31mNameError\u001b[0m                                 Traceback (most recent call last)",
      "Input \u001b[1;32mIn [13]\u001b[0m, in \u001b[0;36m<cell line: 1>\u001b[1;34m()\u001b[0m\n\u001b[1;32m----> 1\u001b[0m client_url \u001b[38;5;241m=\u001b[39m \u001b[43mMONGO_DB_URL\u001b[49m\n\u001b[0;32m      2\u001b[0m database_name \u001b[38;5;241m=\u001b[39m \u001b[38;5;124m'\u001b[39m\u001b[38;5;124mphishing\u001b[39m\u001b[38;5;124m'\u001b[39m\n",
      "\u001b[1;31mNameError\u001b[0m: name 'MONGO_DB_URL' is not defined"
     ]
    }
   ],
   "source": [
    "client_url = MONGO_DB_URL\n",
    "database_name = 'phishing'"
   ]
  },
  {
   "cell_type": "code",
   "execution_count": 9,
   "id": "a2f048aa",
   "metadata": {},
   "outputs": [],
   "source": [
    "def upload_files_to_mongodb(\n",
    "    mongo_client_con_string,\n",
    "    database_name,\n",
    "    datasets_dir_name):\n",
    "  \n",
    "  for file in os.listdir(datasets_dir_name):\n",
    "    if file.endswith('.csv'):\n",
    "      file_name = file.split('.')[0]\n",
    "\n",
    "      mongo_connection = mongo(\n",
    "          client_url = mongo_client_con_string,\n",
    "          database_name= database_name,\n",
    "          collection_name= file_name\n",
    "      )\n",
    "\n",
    "      file_path = os.path.join(datasets_dir_name, file)\n",
    "      print(file_path)\n",
    "      mongo_connection.bulk_insert(file_path)\n",
    "      print(f\"{file_name} is uploaded to mongodb\")"
   ]
  },
  {
   "cell_type": "code",
   "execution_count": 11,
   "id": "4c3ca1fb",
   "metadata": {},
   "outputs": [
    {
     "name": "stdout",
     "output_type": "stream",
     "text": [
      "C:\\Users\\vijen\\Desktop\\Projects\\Phising classifier\\Dataset\\Phising_encoded.csv\n",
      "Phising_encoded is uploaded to mongodb\n"
     ]
    }
   ],
   "source": [
    "upload_files_to_mongodb(\n",
    "    mongo_client_con_string= client_url,\n",
    "    database_name = database_name,\n",
    "    datasets_dir_name= r\"C:\\Users\\vijen\\Desktop\\Projects\\Phising classifier\\Dataset\")"
   ]
  },
  {
   "cell_type": "code",
   "execution_count": null,
   "id": "000a013f",
   "metadata": {},
   "outputs": [],
   "source": []
  }
 ],
 "metadata": {
  "kernelspec": {
   "display_name": "Python 3 (ipykernel)",
   "language": "python",
   "name": "python3"
  },
  "language_info": {
   "codemirror_mode": {
    "name": "ipython",
    "version": 3
   },
   "file_extension": ".py",
   "mimetype": "text/x-python",
   "name": "python",
   "nbconvert_exporter": "python",
   "pygments_lexer": "ipython3",
   "version": "3.10.4"
  }
 },
 "nbformat": 4,
 "nbformat_minor": 5
}
