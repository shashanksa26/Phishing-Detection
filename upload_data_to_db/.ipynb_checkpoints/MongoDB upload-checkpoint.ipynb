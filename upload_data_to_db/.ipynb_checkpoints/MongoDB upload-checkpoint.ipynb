{
 "cells": [
  {
   "cell_type": "code",
   "execution_count": 14,
   "id": "32ed09dd",
   "metadata": {},
   "outputs": [],
   "source": [
    "import os \n",
    "from database_connect.databases.mongodb import MongoIO as mongo"
   ]
  },
  {
   "cell_type": "code",
   "execution_count": 16,
   "id": "886d5bfd",
   "metadata": {},
   "outputs": [],
   "source": [
    "client_url = os.getenv(\"MONGO_DB_URL\")\n",
    "database_name = 'phishing'"
   ]
  },
  {
   "cell_type": "code",
   "execution_count": 17,
   "id": "b6d47d48",
   "metadata": {},
   "outputs": [],
   "source": [
    "def upload_files_to_mongodb(\n",
    "    mongo_client_con_string,\n",
    "    database_name,\n",
    "    datasets_dir_name):\n",
    "  \n",
    "  for file in os.listdir(datasets_dir_name):\n",
    "    if file.endswith('.csv'):\n",
    "      file_name = file.split('.')[0]\n",
    "\n",
    "      mongo_connection = mongo(\n",
    "          client_url = mongo_client_con_string,\n",
    "          database_name= database_name,\n",
    "          collection_name= file_name\n",
    "      )\n",
    "\n",
    "      file_path = os.path.join(datasets_dir_name, file)\n",
    "      print(file_path)\n",
    "      mongo_connection.bulk_insert(file_path)\n",
    "      print(f\"{file_name} is uploaded to mongodb\")"
   ]
  },
  {
   "cell_type": "code",
   "execution_count": 18,
   "id": "301aa036",
   "metadata": {},
   "outputs": [
    {
     "name": "stdout",
     "output_type": "stream",
     "text": [
      "C:\\Users\\vijen\\Desktop\\Projects\\Phising classifier\\upload_data_to_db\\phising_08012020_120000.csv\n",
      "phising_08012020_120000 is uploaded to mongodb\n"
     ]
    }
   ],
   "source": [
    "upload_files_to_mongodb(\n",
    "    mongo_client_con_string= client_url,\n",
    "    database_name = database_name,\n",
    "    datasets_dir_name= r\"C:\\Users\\vijen\\Desktop\\Projects\\Phising classifier\\upload_data_to_db\")"
   ]
  },
  {
   "cell_type": "code",
   "execution_count": null,
   "id": "b2eec5e9",
   "metadata": {},
   "outputs": [],
   "source": []
  }
 ],
 "metadata": {
  "kernelspec": {
   "display_name": "Python 3 (ipykernel)",
   "language": "python",
   "name": "python3"
  },
  "language_info": {
   "codemirror_mode": {
    "name": "ipython",
    "version": 3
   },
   "file_extension": ".py",
   "mimetype": "text/x-python",
   "name": "python",
   "nbconvert_exporter": "python",
   "pygments_lexer": "ipython3",
   "version": "3.10.4"
  }
 },
 "nbformat": 4,
 "nbformat_minor": 5
}
